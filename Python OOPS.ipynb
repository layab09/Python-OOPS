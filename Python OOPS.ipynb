{
 "cells": [
  {
   "cell_type": "markdown",
   "id": "51983bcf-a219-4135-83ef-894afba558e3",
   "metadata": {},
   "source": [
    "\n",
    "\n",
    " 1. What is Object-Oriented Programming (OOP)?\n",
    "   Object-Oriented Programming (OOP) is a programming paradigm that uses objects and classes to organize and structure code. It emphasizes the principles of inheritance, encapsulation, abstraction, and polymorphism. In OOP, objects represent real-world entities, and classes define the structure and behavior of these objects.\n",
    "\n",
    " 2. What is a class in OOP?\n",
    "   A class is a blueprint for creating objects. It defines a set of attributes (variables) and methods (functions) that the objects created from the class will have. A class is essentially a template for objects.\n",
    "\n",
    "3.*What is an object in OOP?\n",
    "   An object is an instance of a class. It is a concrete representation of the class and holds real values for the attributes defined in the class. Each object can have different states and behaviors.\n",
    "\n",
    "4. What is the difference between abstraction and encapsulation?\n",
    "    Abstraction hides the implementation details and shows only the essential features of an object. It allows you to focus on what an object does, not how it does it.\n",
    "Encapsulation is the concept of bundling data (attributes) and methods (functions) that operate on the data into a single unit, or class. It restricts direct access to some of the object's components and can be used to protect the integrity of the object’s data.\n",
    "\n",
    "   5 What are dunder methods in Python?\n",
    "   Dunder methods, or \"magic methods,\" are special methods in Python that start and end with double underscores (e.g., `__init__`, `__str__`, `__add__`). They allow you to define how objects behave in specific situations, like when they are printed, added together, or compared.\n",
    "\n",
    " 6. Explain the concept of inheritance in OOP.\n",
    "   Inheritance is a mechanism in OOP that allows one class (child class) to inherit attributes and methods from another class (parent class). It promotes code reuse and allows the child class to extend or modify the behavior of the parent class.\n",
    "\n",
    "7. What is polymorphism in OOP?\n",
    "   Polymorphism allows different classes to be treated as instances of the same class through inheritance. The most common example is method overriding, where a method in a derived class has the same name as a method in the parent class but behaves differently.\n",
    "\n",
    "8. How is encapsulation achieved in Python?\n",
    "   Encapsulation in Python is achieved by using private and protected access modifiers. While Python doesn't have strict access modifiers, a convention is followed:\n",
    "   - A single underscore (`_`) indicates a protected variable or method.\n",
    "   - A double underscore (`__`) makes the variable or method private, preventing access from outside the class (though it's still accessible through name mangling).\n",
    "\n",
    "9. What is a constructor in Python?\n",
    "   A constructor in Python is a special method `__init__()` used to initialize objects when they are created. It is automatically invoked when an object of a class is instantiated.\n",
    "\n",
    "     *What are class and static methods in Python?\n",
    "   - Class method: A method bound to the class and not the instance. It takes the class itself as the first argument (`cls`). Defined using the `@classmethod` decorator.\n",
    "   - **Static method**: A method that doesn't take any reference to the class or instance. It behaves like a regular function but belongs to the class. Defined using the `@staticmethod` decorator.\n",
    "   - \n",
    " 11. What is method overloading in Python?\n",
    "   Python does not support method overloading in the traditional sense (like in Java or C++). However, you can define a single method that accepts different numbers of arguments and handle it using default arguments or variable-length arguments (`*args` or `**kwargs`).\n",
    "\n",
    " 12. What is method overriding in OOP?\n",
    "   Method overriding occurs when a subclass provides a specific implementation of a method that is already defined in its superclass. This allows the subclass to modify or extend the behavior of the parent class method.\n",
    "\n",
    " 13. What is a property decorator in Python?\n",
    "   The `@property` decorator in Python is used to define a method as a property. This allows you to define getter, setter, and deleter methods to manage the attributes of an object, while providing the ability to access them like normal attributes.\n",
    "\n",
    "14*Why is polymorphism important in OOP?\n",
    "   Polymorphism allows for flexibility and scalability in code. It enables objects of different classes to be treated as objects of a common superclass, which simplifies code and allows the same interface to be used for different data types or objects.\n",
    "\n",
    "15. What is an abstract class in Python?\n",
    "   An abstract class is a class that cannot be instantiated directly. It is meant to be subclassed, and it often includes abstract methods that must be implemented by any subclass. Abstract classes are defined using the `abc` module.\n",
    "\n",
    "16. What are the advantages of OOP?\n",
    "   - **Modularity**: Code is organized into discrete objects.\n",
    "   - **Reusability**: Code can be reused through inheritance.\n",
    "   - **Maintainability**: Easier to maintain and update code due to encapsulation.\n",
    "   - **Flexibility**: Polymorphism allows code to work with objects of different types.\n",
    "\n",
    "17. What is the difference between a class variable and an instance variable?\n",
    "   - **Class variable**: Shared by all instances of a class. It is defined inside a class but outside of any methods.\n",
    "   - **Instance variable**: Specific to an instance of a class. Each object has its own copy of instance variables.\n",
    "\n",
    " 18. What is multiple inheritance in Python?\n",
    "   Multiple inheritance is a feature in Python where a class can inherit from more than one parent class. Python supports this form of inheritance, unlike some other languages like Java.\n",
    "\n",
    "19. Explain the purpose of `__str__` and `__repr__` methods in Python.\n",
    "   - `__str__` is used to define a human-readable string representation of an object, useful for printing.\n",
    "   - `__repr__` is used to define a string representation that ideally could be used to recreate the object. It is often used for debugging.\n",
    "\n",
    "20. What is the significance of the `super()` function in Python?\n",
    "   `super()` is used to call methods from a parent class in a subclass. It allows you to access and override parent class methods in child classes, promoting code reuse and method resolution order (MRO) in inheritance.\n",
    "\n",
    " 21. What is the significance of the `__del__` method in Python?\n",
    "   The `__del__` method is called when an object is about to be destroyed. It is a destructor method and can be used for cleanup, such as closing files or releasing resources.\n",
    "\n",
    "22. What is the difference between `@staticmethod` and `@classmethod` in Python?\n",
    "   - **`@staticmethod`**: A method that does not depend on the instance or class. It behaves like a regular function but belongs to the class.\n",
    "   - **`@classmethod`**: A method that takes the class as its first argument and can modify class variables.\n",
    "   - \n",
    " 23. How does polymorphism work in Python with inheritance?\n",
    "   In Python, polymorphism works with inheritance by allowing subclasses to define methods with the same name as the parent class but with different behaviors. The method to call is determined at runtime, allowing different objects to respond in their own way to the same method call.\n",
    "\n",
    "24. What is method chaining in Python OOP?\n",
    "   Method chaining is a programming technique where multiple methods are called on the same object in a single line of code. This is possible when methods return the object itself (i.e., `self`).\n",
    "\n",
    " 25. What is the purpose of the `__call__` method in Python?\n",
    "   The `__call__` method allows an object to be called like a function. When an instance of a class with a `__call__` method is invoked, this method is executed, providing behavior similar to a function."
   ]
  },
  {
   "cell_type": "code",
   "execution_count": 3,
   "id": "92880fab-3d39-48c3-82c3-9411f99ed789",
   "metadata": {},
   "outputs": [],
   "source": [
    "##PRACTICAL QUESTION"
   ]
  },
  {
   "cell_type": "code",
   "execution_count": 5,
   "id": "93f6e606-a42c-4d0d-ac9a-63f8b5344eb9",
   "metadata": {},
   "outputs": [
    {
     "name": "stdout",
     "output_type": "stream",
     "text": [
      "Bark!\n"
     ]
    }
   ],
   "source": [
    "#1.Create a parent class Animal with a method speak() that overrides the speak() method to print \"Bark!\n",
    "\n",
    "\n",
    "class Animal:\n",
    "    def speak(self):\n",
    "        print(\"Animal makes a sound\")\n",
    "\n",
    "\n",
    "class Dog(Animal):\n",
    "    def speak(self):\n",
    "        print(\"Bark!\")\n",
    "\n",
    "\n",
    "dog = Dog()\n",
    "\n",
    "\n",
    "dog.speak() \n"
   ]
  },
  {
   "cell_type": "code",
   "execution_count": 9,
   "id": "eec01e89-f6f6-447f-8eb3-4e6ee356e96f",
   "metadata": {},
   "outputs": [
    {
     "name": "stdout",
     "output_type": "stream",
     "text": [
      "Area of the Circle: 78.54\n",
      "Area of the Rectangle: 24\n"
     ]
    }
   ],
   "source": [
    "#2 Write a program to create an abstract class Shape with a method area(). Derive classes Circle and Rectangle from it and implement the area() method in both.\n",
    "\n",
    "from abc import ABC, abstractmethod\n",
    "import math\n",
    "\n",
    "# Abstract class Shape\n",
    "class Shape(ABC):\n",
    "    @abstractmethod\n",
    "    def area(self):\n",
    "        pass\n",
    "\n",
    "# Class Circle derived from Shape\n",
    "class Circle(Shape):\n",
    "    def __init__(self, radius):\n",
    "        self.radius = radius\n",
    "\n",
    "    def area(self):\n",
    "        return math.pi * (self.radius ** 2)\n",
    "\n",
    "# Class Rectangle derived from Shape\n",
    "class Rectangle(Shape):\n",
    "    def __init__(self, width, height):\n",
    "        self.width = width\n",
    "        self.height = height\n",
    "\n",
    "    def area(self):\n",
    "        return self.width * self.height\n",
    "\n",
    "# Creating objects of Circle and Rectangle\n",
    "circle = Circle(5)\n",
    "rectangle = Rectangle(4, 6)\n",
    "\n",
    "# Printing areas\n",
    "print(f\"Area of the Circle: {circle.area():.2f}\")\n",
    "print(f\"Area of the Rectangle: {rectangle.area()}\")\n"
   ]
  },
  {
   "cell_type": "code",
   "execution_count": 1,
   "id": "eb8d535d-ad48-4443-bace-381753bf504c",
   "metadata": {},
   "outputs": [
    {
     "name": "stdout",
     "output_type": "stream",
     "text": [
      "Vehicle Type: General\n",
      "Vehicle Type: Sedan, Brand: Toyota\n",
      "Vehicle Type: Sedan, Brand: Tesla, Battery: 75 kWh\n"
     ]
    }
   ],
   "source": [
    "#3 Implement a multi-level inheritance scenario where a class Vehicle has an attribute type. Derive a class Car and further derive a class Electriccar that adds a battery attribute\n",
    "\n",
    "\n",
    "\n",
    "class Vehicle:\n",
    "    def __init__(self, type):\n",
    "        self.type = type\n",
    "    \n",
    "    def display_info(self):\n",
    "        return f\"Vehicle Type: {self.type}\"\n",
    "\n",
    "\n",
    "class Car(Vehicle):\n",
    "    def __init__(self, type, brand):\n",
    "        # Call the constructor of the parent class (Vehicle)\n",
    "        super().__init__(type)\n",
    "        self.brand = brand\n",
    "    \n",
    "    def display_info(self):\n",
    "        vehicle_info = super().display_info()  # Get info from the parent class\n",
    "        return f\"{vehicle_info}, Brand: {self.brand}\"\n",
    "\n",
    "\n",
    "class ElectricCar(Car):\n",
    "    def __init__(self, type, brand, battery):\n",
    "        # Call the constructor of the parent class (Car)\n",
    "        super().__init__(type, brand)\n",
    "        self.battery = battery\n",
    "    \n",
    "    def display_info(self):\n",
    "        car_info = super().display_info()  # Get info from the parent class\n",
    "        return f\"{car_info}, Battery: {self.battery} kWh\"\n",
    "\n",
    "\n",
    "vehicle = Vehicle(\"General\")\n",
    "car = Car(\"Sedan\", \"Toyota\")\n",
    "electric_car = ElectricCar(\"Sedan\", \"Tesla\", 75)\n",
    "\n",
    "\n",
    "print(vehicle.display_info())  # Vehicle Type: General\n",
    "print(car.display_info())  # Vehicle Type: Sedan, Brand: Toyota\n",
    "print(electric_car.display_info())  # Vehicle Type: Sedan, Brand: Tesla, Battery: 75 kWh\n"
   ]
  },
  {
   "cell_type": "code",
   "execution_count": 5,
   "id": "513652df-2592-444a-a27a-0ea124d7f8f2",
   "metadata": {},
   "outputs": [
    {
     "name": "stdout",
     "output_type": "stream",
     "text": [
      "Vehicle Type: General\n",
      "Vehicle Type: Sedan, Brand: Toyota\n",
      "Vehicle Type: Sedan, Brand: Tesla, Battery: 75 kWh\n"
     ]
    }
   ],
   "source": [
    "#4 Implement a multi-level inheritance scenario where a class Vehicle has an attribute type. Derive a class Car\n",
    "#and further derive a class ElectricCar that adds a battery attribute.\n",
    "\n",
    "# Base class Vehicle\n",
    "class Vehicle:\n",
    "    def __init__(self, type):\n",
    "        self.type = type  # Type of vehicle (e.g., car, truck, etc.)\n",
    "    \n",
    "    def display_info(self):\n",
    "        return f\"Vehicle Type: {self.type}\"\n",
    "\n",
    "# Derived class Car, inheriting from Vehicle\n",
    "class Car(Vehicle):\n",
    "    def __init__(self, type, brand):\n",
    "        \n",
    "        super().__init__(type)\n",
    "        self.brand = brand  # Brand of the car (e.g., Toyota, Ford, etc.)\n",
    "    \n",
    "    def display_info(self):\n",
    "        \n",
    "        vehicle_info = super().display_info()\n",
    "        return f\"{vehicle_info}, Brand: {self.brand}\"\n",
    "\n",
    "# Derived class ElectricCar, inheriting from Car\n",
    "class ElectricCar(Car):\n",
    "    def __init__(self, type, brand, battery):\n",
    "        \n",
    "        super().__init__(type, brand)\n",
    "        self.battery = battery  # Battery capacity (in kWh) of the electric car\n",
    "    \n",
    "    def display_info(self):\n",
    "        \n",
    "        car_info = super().display_info()\n",
    "        return f\"{car_info}, Battery: {self.battery} kWh\"\n",
    "\n",
    "\n",
    "vehicle = Vehicle(\"General\")\n",
    "car = Car(\"Sedan\", \"Toyota\")\n",
    "electric_car = ElectricCar(\"Sedan\", \"Tesla\", 75)\n",
    "\n",
    "\n",
    "print(vehicle.display_info())  # Output: Vehicle Type: General\n",
    "print(car.display_info())      # Output: Vehicle Type: Sedan, Brand: Toyota\n",
    "print(electric_car.display_info())  # Output: Vehicle Type: Sedan, Brand: Tesla, Battery: 75 kWh\n",
    "\n"
   ]
  },
  {
   "cell_type": "code",
   "execution_count": 7,
   "id": "7c2e68ff-1a45-408b-a0d2-8b1449d12a4c",
   "metadata": {},
   "outputs": [
    {
     "name": "stdout",
     "output_type": "stream",
     "text": [
      "Deposited 500. New balance is 1500.\n",
      "Withdrew 200. New balance is 1300.\n",
      "Current balance is 1300.\n"
     ]
    }
   ],
   "source": [
    "#5 Write a program to demonstrate encapsulation by creating a class BankAccount with private attributes balance and methods to deposit, withdraw, and check balance.\n",
    "\n",
    "class BankAccount:\n",
    "    def __init__(self, initial_balance):\n",
    "        # Private attribute balance (not directly accessible from outside the class)\n",
    "        self.__balance = initial_balance\n",
    "    \n",
    "    # Method to deposit money into the account\n",
    "    def deposit(self, amount):\n",
    "        if amount > 0:\n",
    "            self.__balance += amount\n",
    "            print(f\"Deposited {amount}. New balance is {self.__balance}.\")\n",
    "        else:\n",
    "            print(\"Deposit amount must be positive.\")\n",
    "    \n",
    "    # Method to withdraw money from the account\n",
    "    def withdraw(self, amount):\n",
    "        if amount > 0 and amount <= self.__balance:\n",
    "            self.__balance -= amount\n",
    "            print(f\"Withdrew {amount}. New balance is {self.__balance}.\")\n",
    "        else:\n",
    "            print(\"Invalid withdrawal amount or insufficient balance.\")\n",
    "    \n",
    "    # Method to check the current balance (getter)\n",
    "    def check_balance(self):\n",
    "        print(f\"Current balance is {self.__balance}.\")\n",
    "    \n",
    "\n",
    "account = BankAccount(1000)  # Create an account with an initial balance of 1000\n",
    "\n",
    "\n",
    "account.deposit(500)  # Deposit 500 into the account\n",
    "\n",
    "\n",
    "account.withdraw(200)  # Withdraw 200 from the account\n",
    "\n",
    "\n",
    "account.check_balance()  # Check the current balance\n"
   ]
  },
  {
   "cell_type": "code",
   "execution_count": 9,
   "id": "44d7b9cf-3e91-4bb0-bb8a-6cbcfe11c790",
   "metadata": {},
   "outputs": [
    {
     "name": "stdout",
     "output_type": "stream",
     "text": [
      "Playing a guitar\n",
      "Playing a piano\n"
     ]
    }
   ],
   "source": [
    "#6  Demonstrate runtime polymorphism using a method play() in a base class Instrument. Derive classes Guitar and Piano that implement their own version of play().\n",
    "\n",
    "# Base class Instrument\n",
    "class Instrument:\n",
    "    def play(self):\n",
    "        # A generic play method that can be overridden by derived classes\n",
    "        print(\"Playing an instrument\")\n",
    "\n",
    "# Derived class Guitar\n",
    "class Guitar(Instrument):\n",
    "    def play(self):\n",
    "        # Overriding the play method for Guitar\n",
    "        print(\"Playing a guitar\")\n",
    "\n",
    "# Derived class Piano\n",
    "class Piano(Instrument):\n",
    "    def play(self):\n",
    "        # Overriding the play method for Piano\n",
    "        print(\"Playing a piano\")\n",
    "\n",
    "# Demonstrating runtime polymorphism\n",
    "def demonstrate_polymorphism(instrument):\n",
    "    instrument.play()\n",
    "\n",
    "# Creating objects of derived classes\n",
    "guitar = Guitar()\n",
    "piano = Piano()\n",
    "\n",
    "# Passing objects to the demonstrate_polymorphism function\n",
    "demonstrate_polymorphism(guitar)  # Output: Playing a guitar\n",
    "demonstrate_polymorphism(piano)   # Output: Playing a piano\n"
   ]
  },
  {
   "cell_type": "code",
   "execution_count": 11,
   "id": "1d7a8323-eb3b-4a9b-8b0a-5283e38c30b7",
   "metadata": {},
   "outputs": [
    {
     "name": "stdout",
     "output_type": "stream",
     "text": [
      "Addition result: 15\n",
      "Subtraction result: 5\n"
     ]
    }
   ],
   "source": [
    "#7 Create class MathOperations with a class method add numbers()to add two numbers and a static method subtract_numbers() to subtract two numbers.\n",
    "\n",
    "class MathOperations:\n",
    "    \n",
    "    # Class method to add two numbers\n",
    "    @classmethod\n",
    "    def add_numbers(cls, num1, num2):\n",
    "        return num1 + num2\n",
    "    \n",
    "    # Static method to subtract two numbers\n",
    "    @staticmethod\n",
    "    def subtract_numbers(num1, num2):\n",
    "        return num1 - num2\n",
    "\n",
    "\n",
    "\n",
    "# Using the class method to add numbers\n",
    "result_add = MathOperations.add_numbers(10, 5)\n",
    "print(f\"Addition result: {result_add}\")  # Output: Addition result: 15\n",
    "\n",
    "# Using the static method to subtract numbers\n",
    "result_subtract = MathOperations.subtract_numbers(10, 5)\n",
    "print(f\"Subtraction result: {result_subtract}\")  # Output: Subtraction result: 5\n"
   ]
  },
  {
   "cell_type": "code",
   "execution_count": 17,
   "id": "ad4933d0-381b-4ee5-8f6e-2cc15a536825",
   "metadata": {},
   "outputs": [
    {
     "name": "stdout",
     "output_type": "stream",
     "text": [
      "Total persons created: 3\n"
     ]
    }
   ],
   "source": [
    "#8 Implement a class Person with a class method to count the total number of persons created.\n",
    "\n",
    "class Person:\n",
    "    # Class variable to keep track of the number of persons created\n",
    "    total_persons = 0\n",
    "    \n",
    "    def __init__(self, name, age):\n",
    "        self.name = name  # Instance variable for name\n",
    "        self.age = age    # Instance variable for age\n",
    "        Person.total_persons += 1  # Increment the count when a new person is created\n",
    "    \n",
    "    # Class method to get the total number of persons created\n",
    "    @classmethod\n",
    "    def get_total_persons(cls):\n",
    "        return cls.total_persons\n",
    "\n",
    "\n",
    "\n",
    "# Creating instances of Person\n",
    "person1 = Person(\"Alice\", 30)\n",
    "person2 = Person(\"Bob\", 25)\n",
    "person3 = Person(\"Charlie\", 35)\n",
    "\n",
    "# Using the class method to get the total number of persons created\n",
    "print(f\"Total persons created: {Person.get_total_persons()}\")  # Output: Total persons created: 3\n"
   ]
  },
  {
   "cell_type": "code",
   "execution_count": 19,
   "id": "7a55924a-3bfc-4005-bea6-eb1d44a6a9db",
   "metadata": {},
   "outputs": [
    {
     "name": "stdout",
     "output_type": "stream",
     "text": [
      "3/4\n",
      "5/8\n"
     ]
    }
   ],
   "source": [
    "#9 Write a class Fraction with attributes numerator and denominator. Override the str method to display the fraction as \"numerator/denominator\".\n",
    "\n",
    "class Fraction:\n",
    "    def __init__(self, numerator, denominator):\n",
    "        self.numerator = numerator  # Attribute for numerator\n",
    "        self.denominator = denominator  # Attribute for denominator\n",
    "    \n",
    "    # Override the __str__ method to display the fraction as \"numerator/denominator\"\n",
    "    def __str__(self):\n",
    "        return f\"{self.numerator}/{self.denominator}\"\n",
    "\n",
    "\n",
    "\n",
    "# Creating instances of Fraction\n",
    "fraction1 = Fraction(3, 4)\n",
    "fraction2 = Fraction(5, 8)\n",
    "\n",
    "# Printing the fractions\n",
    "print(fraction1)  \n",
    "print(fraction2)  \n",
    "\n"
   ]
  },
  {
   "cell_type": "code",
   "execution_count": 23,
   "id": "72b42971-e3eb-4bc0-abba-aa6a27a03e33",
   "metadata": {},
   "outputs": [
    {
     "name": "stdout",
     "output_type": "stream",
     "text": [
      "Result of vector addition: (6, 8)\n"
     ]
    }
   ],
   "source": [
    "#10 Demonstrate operator overloading by creating a class Vector and overriding the add method to add two vectors.\n",
    "\n",
    "class Vector:\n",
    "    def __init__(self, x, y):\n",
    "        self.x = x  # x-component of the vector\n",
    "        self.y = y  # y-component of the vector\n",
    "    \n",
    "    # Overloading the + operator to add two vectors\n",
    "    def __add__(self, other):\n",
    "        # Ensure that the other object is an instance of Vector\n",
    "        if isinstance(other, Vector):\n",
    "            return Vector(self.x + other.x, self.y + other.y)\n",
    "        else:\n",
    "            raise ValueError(\"Both operands must be instances of the Vector class\")\n",
    "    \n",
    "    # Method to display the vector in a readable format\n",
    "    def __str__(self):\n",
    "        return f\"({self.x}, {self.y})\"\n",
    "    \n",
    "\n",
    "# Creating two vectors\n",
    "vector1 = Vector(2, 3)\n",
    "vector2 = Vector(4, 5)\n",
    "\n",
    "# Adding the vectors using the overloaded + operator\n",
    "result_vector = vector1 + vector2\n",
    "\n",
    "# Printing the result\n",
    "print(f\"Result of vector addition: {result_vector}\")  \n",
    "\n"
   ]
  },
  {
   "cell_type": "code",
   "execution_count": 27,
   "id": "553d4796-19c4-42a4-9787-9ccbd4acdea5",
   "metadata": {},
   "outputs": [
    {
     "name": "stdout",
     "output_type": "stream",
     "text": [
      "Hello, my name is Laya and I am 22 years old.\n"
     ]
    }
   ],
   "source": [
    "#11  Create a class Person with attributes name and age. Add a method greet() that prints \"Hello, my name is {name} and i am {age] years old.\"\n",
    "\n",
    "class Person:\n",
    "    def __init__(self, name, age):\n",
    "        self.name = name  # Attribute for the person's name\n",
    "        self.age = age    # Attribute for the person's age\n",
    "    \n",
    "    # Method to print a greeting message\n",
    "    def greet(self):\n",
    "        print(f\"Hello, my name is {self.name} and I am {self.age} years old.\")\n",
    "\n",
    "\n",
    "\n",
    "# Creating an instance of Person\n",
    "person1 = Person(\"Laya\", 22)\n",
    "\n",
    "# Calling the greet method to print the greeting message\n",
    "person1.greet()  # Output: Hello, my name is Alice and I am 30 years old.\n"
   ]
  },
  {
   "cell_type": "code",
   "execution_count": 29,
   "id": "053d91cf-a3e0-4d58-a0a1-225aa98c2da1",
   "metadata": {},
   "outputs": [
    {
     "name": "stdout",
     "output_type": "stream",
     "text": [
      "Alice's average grade is: 86.25\n"
     ]
    }
   ],
   "source": [
    "#12  Implement a class Student with attributes name and grades. Create a method average_grade() to compute the average of the grades.\n",
    "\n",
    "class Student:\n",
    "    def __init__(self, name, grades):\n",
    "        self.name = name  # Attribute for the student's name\n",
    "        self.grades = grades  # Attribute for the student's grades (should be a list of numbers)\n",
    "    \n",
    "    # Method to compute the average of the grades\n",
    "    def average_grade(self):\n",
    "        if len(self.grades) == 0:\n",
    "            return 0  # Return 0 if the grades list is empty\n",
    "        return sum(self.grades) / len(self.grades)\n",
    "\n",
    "\n",
    "# Creating an instance of Student\n",
    "student1 = Student(\"Laya\", [85, 90, 78, 92])\n",
    "\n",
    "# Calling the average_grade method to compute the average\n",
    "average = student1.average_grade()\n",
    "\n",
    "# Printing the average grade\n",
    "print(f\"{student1.name}'s average grade is: {average:.2f}\")  # Output: Alice's average grade is: 86.25\n"
   ]
  },
  {
   "cell_type": "code",
   "execution_count": 31,
   "id": "84c331ac-e8c7-4486-91f2-d6194f74d62b",
   "metadata": {},
   "outputs": [
    {
     "name": "stdout",
     "output_type": "stream",
     "text": [
      "The area of the rectangle is: 15\n"
     ]
    }
   ],
   "source": [
    "#13 Create a class Rectangle with methods set_ dimensions() to set the dimensions and area() to calculate the area.\n",
    "\n",
    "class Rectangle:\n",
    "    def __init__(self):\n",
    "        self.length = 0  # Initialize length to 0\n",
    "        self.width = 0   # Initialize width to 0\n",
    "\n",
    "    # Method to set the dimensions of the rectangle\n",
    "    def set_dimensions(self, length, width):\n",
    "        self.length = length\n",
    "        self.width = width\n",
    "\n",
    "    # Method to calculate and return the area of the rectangle\n",
    "    def area(self):\n",
    "        return self.length * self.width\n",
    "\n",
    "\n",
    "# Creating an instance of Rectangle\n",
    "rectangle1 = Rectangle()\n",
    "\n",
    "# Setting the dimensions of the rectangle\n",
    "rectangle1.set_dimensions(5, 3)\n",
    "\n",
    "# Calculating and printing the area of the rectangle\n",
    "area = rectangle1.area()\n",
    "print(f\"The area of the rectangle is: {area}\")  # Output: The area of the rectangle is: 15\n"
   ]
  },
  {
   "cell_type": "code",
   "execution_count": 33,
   "id": "d4ada463-4a23-4435-8dda-0636a8025f82",
   "metadata": {},
   "outputs": [
    {
     "name": "stdout",
     "output_type": "stream",
     "text": [
      "Alice's salary is: $800\n",
      "Bob's salary is: $1700\n"
     ]
    }
   ],
   "source": [
    "#14 Create a class Employee with a method calculate_salary()that computes the salary based on hours worked and hourly rate. Create a derived class Manager that adds a bonus to the salary.\n",
    "\n",
    "\n",
    "# Base class Employee\n",
    "class Employee:\n",
    "    def __init__(self, name, hours_worked, hourly_rate):\n",
    "        self.name = name  # Employee's name\n",
    "        self.hours_worked = hours_worked  # Total hours worked\n",
    "        self.hourly_rate = hourly_rate  # Hourly rate for salary calculation\n",
    "    \n",
    "    # Method to calculate salary based on hours worked and hourly rate\n",
    "    def calculate_salary(self):\n",
    "        return self.hours_worked * self.hourly_rate\n",
    "\n",
    "\n",
    "# Derived class Manager\n",
    "class Manager(Employee):\n",
    "    def __init__(self, name, hours_worked, hourly_rate, bonus):\n",
    "        super().__init__(name, hours_worked, hourly_rate)  # Call the constructor of the base class\n",
    "        self.bonus = bonus  # Manager's bonus\n",
    "    \n",
    "    # Overriding calculate_salary to add a bonus for Manager\n",
    "    def calculate_salary(self):\n",
    "        base_salary = super().calculate_salary()  # Calculate base salary from the Employee class\n",
    "        return base_salary + self.bonus  # Add bonus to the base salary\n",
    "\n",
    "\n",
    "\n",
    "# Creating an Employee object\n",
    "employee1 = Employee(\"Alice\", 40, 20)  # 40 hours worked, $20 per hour\n",
    "salary_employee = employee1.calculate_salary()\n",
    "print(f\"{employee1.name}'s salary is: ${salary_employee}\")  # Output: Alice's salary is: $800\n",
    "\n",
    "# Creating a Manager object\n",
    "manager1 = Manager(\"Bob\", 40, 30, 500)  # 40 hours worked, $30 per hour, $500 bonus\n",
    "salary_manager = manager1.calculate_salary()\n",
    "print(f\"{manager1.name}'s salary is: ${salary_manager}\")  # Output: Bob's salary is: $1700\n",
    "\n"
   ]
  },
  {
   "cell_type": "code",
   "execution_count": 35,
   "id": "85710b68-8631-458b-a81e-ba2570d192fb",
   "metadata": {},
   "outputs": [
    {
     "name": "stdout",
     "output_type": "stream",
     "text": [
      "The total price of Laptop is: $3000\n"
     ]
    }
   ],
   "source": [
    "#15  Create a class Product with attributes name, price, and quantity. Implement a method total_price()that\n",
    "#calculates the total price of the product.\n",
    "\n",
    "class Product:\n",
    "    def __init__(self, name, price, quantity):\n",
    "        self.name = name  # Name of the product\n",
    "        self.price = price  # Price of the product\n",
    "        self.quantity = quantity  # Quantity of the product\n",
    "    \n",
    "    # Method to calculate the total price\n",
    "    def total_price(self):\n",
    "        return self.price * self.quantity\n",
    "\n",
    "\n",
    "# Creating an instance of Product\n",
    "product1 = Product(\"Laptop\", 1000, 3)\n",
    "\n",
    "# Calling the total_price method to calculate the total price\n",
    "total = product1.total_price()\n",
    "\n",
    "# Printing the total price\n",
    "print(f\"The total price of {product1.name} is: ${total}\")  # Output: The total price of Laptop is: $3000\n",
    "\n",
    "\n"
   ]
  },
  {
   "cell_type": "code",
   "execution_count": 37,
   "id": "47ef7b1f-eb9e-4fc8-a618-00ba412fb481",
   "metadata": {},
   "outputs": [
    {
     "name": "stdout",
     "output_type": "stream",
     "text": [
      "Cow says: Moo\n",
      "Sheep says: Baa\n"
     ]
    }
   ],
   "source": [
    "#16  Create a class Animal with an abstract method sound(). Create two derived classes Cow and Sheep that implement the sound() method.\n",
    "\n",
    "from abc import ABC, abstractmethod\n",
    "\n",
    "# Base class Animal\n",
    "class Animal(ABC):\n",
    "    # Abstract method sound() that must be implemented in derived classes\n",
    "    @abstractmethod\n",
    "    def sound(self):\n",
    "        pass\n",
    "\n",
    "# Derived class Cow\n",
    "class Cow(Animal):\n",
    "    def sound(self):\n",
    "        return \"Moo\"\n",
    "\n",
    "# Derived class Sheep\n",
    "class Sheep(Animal):\n",
    "    def sound(self):\n",
    "        return \"Baa\"\n",
    "\n",
    "\n",
    "# Creating instances of Cow and Sheep\n",
    "cow = Cow()\n",
    "sheep = Sheep()\n",
    "\n",
    "# Calling the sound method on both objects\n",
    "print(f\"Cow says: {cow.sound()}\")  # Output: Cow says: Moo\n",
    "print(f\"Sheep says: {sheep.sound()}\")  # Output: Sheep says: Baa\n",
    "\n"
   ]
  },
  {
   "cell_type": "code",
   "execution_count": 39,
   "id": "c1fcb3fa-54d1-46bf-a142-cc7172d347c1",
   "metadata": {},
   "outputs": [
    {
     "name": "stdout",
     "output_type": "stream",
     "text": [
      "'1984' by George Orwell, published in 1949\n"
     ]
    }
   ],
   "source": [
    "#17 Create a class Book with attributes title, author, and year_published. Add a method get_book_info() that returns a formatted string with the book's details\n",
    "\n",
    "class Book:\n",
    "    def __init__(self, title, author, year_published):\n",
    "        self.title = title  # Book's title\n",
    "        self.author = author  # Author of the book\n",
    "        self.year_published = year_published  # Year the book was published\n",
    "    \n",
    "    # Method to return the book details in a formatted string\n",
    "    def get_book_info(self):\n",
    "        return f\"'{self.title}' by {self.author}, published in {self.year_published}\"\n",
    "\n",
    "\n",
    "# Creating an instance of Book\n",
    "book1 = Book(\"1984\", \"George Orwell\", 1949)\n",
    "\n",
    "# Calling the get_book_info method to get the book's details\n",
    "book_info = book1.get_book_info()\n",
    "\n",
    "# Printing the book details\n",
    "print(book_info)  # Output: '1984' by George Orwell, published in 1949\n"
   ]
  },
  {
   "cell_type": "code",
   "execution_count": 41,
   "id": "a329c3b7-82eb-4525-9488-2108b01166ca",
   "metadata": {},
   "outputs": [
    {
     "name": "stdout",
     "output_type": "stream",
     "text": [
      "House located at 123 Maple St, priced at $250000\n",
      "House located at 456 Luxury Ave, priced at $5000000, with 15 rooms\n"
     ]
    }
   ],
   "source": [
    "#18 Create a class House with attributes address and price. Create a derived class Mansion that adds an attribute number_of_rooms.\n",
    "\n",
    "# Base class House\n",
    "class House:\n",
    "    def __init__(self, address, price):\n",
    "        self.address = address  # Address of the house\n",
    "        self.price = price  # Price of the house\n",
    "    \n",
    "    # Method to display house details\n",
    "    def get_house_info(self):\n",
    "        return f\"House located at {self.address}, priced at ${self.price}\"\n",
    "\n",
    "# Derived class Mansion\n",
    "class Mansion(House):\n",
    "    def __init__(self, address, price, number_of_rooms):\n",
    "        super().__init__(address, price)  \n",
    "        self.number_of_rooms = number_of_rooms  # Number of rooms in the mansion\n",
    "    \n",
    "    # Method to display mansion details (overrides base class method)\n",
    "    def get_house_info(self):\n",
    "        base_info = super().get_house_info()  # Get basic house info from House class\n",
    "        return f\"{base_info}, with {self.number_of_rooms} rooms\"\n",
    "\n",
    "\n",
    "# Creating an instance of House\n",
    "house1 = House(\"123 Maple St\", 250000)\n",
    "\n",
    "# Creating an instance of Mansion\n",
    "mansion1 = Mansion(\"456 Luxury Ave\", 5000000, 15)\n",
    "\n",
    "# Calling get_house_info() for both objects\n",
    "print(house1.get_house_info())  # Output: House located at 123 Maple St, priced at $250000\n",
    "print(mansion1.get_house_info())  # Output: House located at 456 Luxury Ave, priced at $5000000, with 15 rooms\n"
   ]
  },
  {
   "cell_type": "code",
   "execution_count": null,
   "id": "5be36c2d-591e-4e87-a7c5-ec71a607a562",
   "metadata": {},
   "outputs": [],
   "source": []
  }
 ],
 "metadata": {
  "kernelspec": {
   "display_name": "Python 3 (ipykernel)",
   "language": "python",
   "name": "python3"
  },
  "language_info": {
   "codemirror_mode": {
    "name": "ipython",
    "version": 3
   },
   "file_extension": ".py",
   "mimetype": "text/x-python",
   "name": "python",
   "nbconvert_exporter": "python",
   "pygments_lexer": "ipython3",
   "version": "3.12.7"
  }
 },
 "nbformat": 4,
 "nbformat_minor": 5
}
